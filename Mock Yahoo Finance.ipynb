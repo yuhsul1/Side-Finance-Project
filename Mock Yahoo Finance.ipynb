{
 "cells": [
  {
   "cell_type": "code",
   "execution_count": 39,
   "metadata": {},
   "outputs": [],
   "source": [
    "import numpy as np\n",
    "import matplotlib.pyplot as plt\n",
    "from pandas_datareader import data\n",
    "import pandas as pd\n",
    "from datetime import datetime, timedelta\n",
    "from mpl_finance import candlestick_ohlc\n",
    "import matplotlib.ticker as ticker\n",
    "import matplotlib.dates as mdates\n",
    "import tweepy\n",
    "import time\n",
    "from matplotlib import style\n",
    "\n",
    "user = []\n",
    "store_handle = []\n",
    "search_counter = 0\n",
    "user_counter = 0\n",
    "\n",
    "\n",
    "#Report Current Time\n",
    "now = datetime.now()\n",
    "now = now.strftime(\"%Y-%m-%d %H:%M\")\n",
    "\n",
    "# Import and Initialize Sentiment Analyzer\n",
    "from vaderSentiment.vaderSentiment import SentimentIntensityAnalyzer\n",
    "analyzer = SentimentIntensityAnalyzer()\n",
    "\n",
    "# Twitter API Keys\n",
    "from config import (consumer_key,\n",
    "                    consumer_secret,\n",
    "                    access_token,\n",
    "                    access_token_secret)\n",
    "\n",
    "# Setup Tweepy API Authentication\n",
    "auth = tweepy.OAuthHandler(consumer_key, consumer_secret)\n",
    "auth.set_access_token(access_token, access_token_secret)\n",
    "api = tweepy.API(auth, parser=tweepy.parsers.JSONParser())\n",
    "\n",
    "%matplotlib inline"
   ]
  },
  {
   "cell_type": "code",
   "execution_count": 40,
   "metadata": {},
   "outputs": [
    {
     "name": "stdout",
     "output_type": "stream",
     "text": [
      "peter_pan_daz\n",
      "AAPL\n",
      "peter_pan_daz\n",
      "GOOG\n"
     ]
    }
   ],
   "source": [
    "#Search for mention\n",
    "bot_reference = \"@stock_bot Analyze:\"\n",
    "mention = api.search(bot_reference)\n",
    "\n",
    "for tweet in mention[\"statuses\"]:\n",
    "    parse_info = tweet[\"text\"].split(\"Analyze:\")\n",
    "    if parse_info[1] not in store_handle:\n",
    "        store_handle.append(parse_info[1])\n",
    "        user.append(tweet[\"user\"][\"screen_name\"])\n",
    "    print(user[search_counter])\n",
    "    print(store_handle[search_counter])\n",
    "    search_counter +=1"
   ]
  },
  {
   "cell_type": "code",
   "execution_count": 17,
   "metadata": {},
   "outputs": [],
   "source": []
  },
  {
   "cell_type": "code",
   "execution_count": 41,
   "metadata": {},
   "outputs": [
    {
     "name": "stdout",
     "output_type": "stream",
     "text": [
      "2018-10-28\n"
     ]
    }
   ],
   "source": [
    "#Find today's date\n",
    "today = datetime.today().strftime('%Y-%m-%d')\n",
    "print(today)"
   ]
  },
  {
   "cell_type": "code",
   "execution_count": 42,
   "metadata": {},
   "outputs": [
    {
     "name": "stdout",
     "output_type": "stream",
     "text": [
      "2015-10-29\n"
     ]
    }
   ],
   "source": [
    "#Find three years from today\n",
    "three_year = (datetime.now() - timedelta(days=3*365)).strftime('%Y-%m-%d')\n",
    "print(three_year)"
   ]
  },
  {
   "cell_type": "code",
   "execution_count": 47,
   "metadata": {},
   "outputs": [
    {
     "name": "stdout",
     "output_type": "stream",
     "text": [
      "2017-10-28\n"
     ]
    }
   ],
   "source": [
    "one_year = (datetime.now() - timedelta(days=365)).strftime('%Y-%m-%d')\n",
    "print(one_year)"
   ]
  },
  {
   "cell_type": "code",
   "execution_count": 50,
   "metadata": {},
   "outputs": [
    {
     "name": "stdout",
     "output_type": "stream",
     "text": [
      "2018-07-30\n"
     ]
    }
   ],
   "source": [
    "three_month = (datetime.now() - timedelta(days=90)).strftime('%Y-%m-%d')\n",
    "print(three_month)"
   ]
  },
  {
   "cell_type": "code",
   "execution_count": 48,
   "metadata": {},
   "outputs": [
    {
     "name": "stdout",
     "output_type": "stream",
     "text": [
      "2018-09-28\n"
     ]
    }
   ],
   "source": [
    "one_month = (datetime.now() - timedelta(days=30)).strftime('%Y-%m-%d')\n",
    "print(one_month)"
   ]
  },
  {
   "cell_type": "code",
   "execution_count": 43,
   "metadata": {},
   "outputs": [],
   "source": [
    "#Daily Data\n",
    "ticker = store_handle[0]\n",
    "\n",
    "# User pandas_reader.data.DataReader to load the desired data. As simple as that.\n",
    "\n",
    "# for ticker in tickers:\n",
    "panel_data = data.DataReader(ticker, 'iex', three_year, today)\n",
    "panel_data[\"Ticker\"] = ticker\n",
    "panel_data[\"Moving Average\"] = panel_data[\"close\"].rolling(window=5).mean()\n",
    "panel_data[\"Date\"]=panel_data.index\n",
    "panel_data[\"Date\"]=pd.to_datetime(panel_data[\"Date\"])\n",
    "panel_data[\"Date\"] = panel_data[\"Date\"].apply(mdates.date2num)"
   ]
  },
  {
   "cell_type": "code",
   "execution_count": 44,
   "metadata": {},
   "outputs": [
    {
     "data": {
      "text/html": [
       "<div>\n",
       "<style scoped>\n",
       "    .dataframe tbody tr th:only-of-type {\n",
       "        vertical-align: middle;\n",
       "    }\n",
       "\n",
       "    .dataframe tbody tr th {\n",
       "        vertical-align: top;\n",
       "    }\n",
       "\n",
       "    .dataframe thead th {\n",
       "        text-align: right;\n",
       "    }\n",
       "</style>\n",
       "<table border=\"1\" class=\"dataframe\">\n",
       "  <thead>\n",
       "    <tr style=\"text-align: right;\">\n",
       "      <th></th>\n",
       "      <th>open</th>\n",
       "      <th>high</th>\n",
       "      <th>low</th>\n",
       "      <th>close</th>\n",
       "      <th>volume</th>\n",
       "      <th>Ticker</th>\n",
       "      <th>Moving Average</th>\n",
       "      <th>Date</th>\n",
       "    </tr>\n",
       "    <tr>\n",
       "      <th>date</th>\n",
       "      <th></th>\n",
       "      <th></th>\n",
       "      <th></th>\n",
       "      <th></th>\n",
       "      <th></th>\n",
       "      <th></th>\n",
       "      <th></th>\n",
       "      <th></th>\n",
       "    </tr>\n",
       "  </thead>\n",
       "  <tbody>\n",
       "    <tr>\n",
       "      <th>2015-10-29</th>\n",
       "      <td>112.4996</td>\n",
       "      <td>114.3857</td>\n",
       "      <td>112.0921</td>\n",
       "      <td>114.2340</td>\n",
       "      <td>51227334</td>\n",
       "      <td>AAPL</td>\n",
       "      <td>NaN</td>\n",
       "      <td>735900.0</td>\n",
       "    </tr>\n",
       "    <tr>\n",
       "      <th>2015-10-30</th>\n",
       "      <td>114.6700</td>\n",
       "      <td>114.8880</td>\n",
       "      <td>113.2104</td>\n",
       "      <td>113.2578</td>\n",
       "      <td>49365254</td>\n",
       "      <td>AAPL</td>\n",
       "      <td>NaN</td>\n",
       "      <td>735901.0</td>\n",
       "    </tr>\n",
       "    <tr>\n",
       "      <th>2015-11-02</th>\n",
       "      <td>113.6085</td>\n",
       "      <td>115.0207</td>\n",
       "      <td>113.3621</td>\n",
       "      <td>114.8501</td>\n",
       "      <td>32203267</td>\n",
       "      <td>AAPL</td>\n",
       "      <td>NaN</td>\n",
       "      <td>735904.0</td>\n",
       "    </tr>\n",
       "    <tr>\n",
       "      <th>2015-11-03</th>\n",
       "      <td>114.4804</td>\n",
       "      <td>117.0394</td>\n",
       "      <td>114.3951</td>\n",
       "      <td>116.1675</td>\n",
       "      <td>45518976</td>\n",
       "      <td>AAPL</td>\n",
       "      <td>NaN</td>\n",
       "      <td>735905.0</td>\n",
       "    </tr>\n",
       "    <tr>\n",
       "      <th>2015-11-04</th>\n",
       "      <td>116.6982</td>\n",
       "      <td>117.3522</td>\n",
       "      <td>115.2671</td>\n",
       "      <td>115.6272</td>\n",
       "      <td>44886050</td>\n",
       "      <td>AAPL</td>\n",
       "      <td>114.82732</td>\n",
       "      <td>735906.0</td>\n",
       "    </tr>\n",
       "  </tbody>\n",
       "</table>\n",
       "</div>"
      ],
      "text/plain": [
       "                open      high       low     close    volume Ticker  \\\n",
       "date                                                                  \n",
       "2015-10-29  112.4996  114.3857  112.0921  114.2340  51227334   AAPL   \n",
       "2015-10-30  114.6700  114.8880  113.2104  113.2578  49365254   AAPL   \n",
       "2015-11-02  113.6085  115.0207  113.3621  114.8501  32203267   AAPL   \n",
       "2015-11-03  114.4804  117.0394  114.3951  116.1675  45518976   AAPL   \n",
       "2015-11-04  116.6982  117.3522  115.2671  115.6272  44886050   AAPL   \n",
       "\n",
       "            Moving Average      Date  \n",
       "date                                  \n",
       "2015-10-29             NaN  735900.0  \n",
       "2015-10-30             NaN  735901.0  \n",
       "2015-11-02             NaN  735904.0  \n",
       "2015-11-03             NaN  735905.0  \n",
       "2015-11-04       114.82732  735906.0  "
      ]
     },
     "execution_count": 44,
     "metadata": {},
     "output_type": "execute_result"
    }
   ],
   "source": [
    "panel_data.head()"
   ]
  },
  {
   "cell_type": "code",
   "execution_count": 45,
   "metadata": {},
   "outputs": [
    {
     "data": {
      "image/png": "[encoded data removed]",
      "text/plain": [
       "<Figure size 432x288 with 1 Axes>"
      ]
     },
     "metadata": {},
     "output_type": "display_data"
    },
    {
     "data": {
      "text/plain": [
       "{'created_at': 'Sun Oct 28 17:14:10 +0000 2018',\n",
       " 'id': 1056594990091055109,\n",
       " 'id_str': '1056594990091055109',\n",
       " 'text': '@peter_pan_daz, see your results! https://t.co/T8kM3rZOWi',\n",
       " 'truncated': False,\n",
       " 'entities': {'hashtags': [],\n",
       "  'symbols': [],\n",
       "  'user_mentions': [{'screen_name': 'peter_pan_daz',\n",
       "    'name': 'Yu-Hsuan Liu',\n",
       "    'id': 2277380293,\n",
       "    'id_str': '2277380293',\n",
       "    'indices': [0, 14]}],\n",
       "  'urls': [],\n",
       "  'media': [{'id': 1056594988555857920,\n",
       "    'id_str': '1056594988555857920',\n",
       "    'indices': [34, 57],\n",
       "    'media_url': 'http://pbs.twimg.com/media/DqnHi0RUcAANJs8.jpg',\n",
       "    'media_url_https': 'https://pbs.twimg.com/media/DqnHi0RUcAANJs8.jpg',\n",
       "    'url': 'https://t.co/T8kM3rZOWi',\n",
       "    'display_url': 'pic.twitter.com/T8kM3rZOWi',\n",
       "    'expanded_url': 'https://twitter.com/peter_pan_daz/status/1056594990091055109/photo/1',\n",
       "    'type': 'photo',\n",
       "    'sizes': {'thumb': {'w': 150, 'h': 150, 'resize': 'crop'},\n",
       "     'large': {'w': 432, 'h': 288, 'resize': 'fit'},\n",
       "     'small': {'w': 432, 'h': 288, 'resize': 'fit'},\n",
       "     'medium': {'w': 432, 'h': 288, 'resize': 'fit'}}}]},\n",
       " 'extended_entities': {'media': [{'id': 1056594988555857920,\n",
       "    'id_str': '1056594988555857920',\n",
       "    'indices': [34, 57],\n",
       "    'media_url': 'http://pbs.twimg.com/media/DqnHi0RUcAANJs8.jpg',\n",
       "    'media_url_https': 'https://pbs.twimg.com/media/DqnHi0RUcAANJs8.jpg',\n",
       "    'url': 'https://t.co/T8kM3rZOWi',\n",
       "    'display_url': 'pic.twitter.com/T8kM3rZOWi',\n",
       "    'expanded_url': 'https://twitter.com/peter_pan_daz/status/1056594990091055109/photo/1',\n",
       "    'type': 'photo',\n",
       "    'sizes': {'thumb': {'w': 150, 'h': 150, 'resize': 'crop'},\n",
       "     'large': {'w': 432, 'h': 288, 'resize': 'fit'},\n",
       "     'small': {'w': 432, 'h': 288, 'resize': 'fit'},\n",
       "     'medium': {'w': 432, 'h': 288, 'resize': 'fit'}}}]},\n",
       " 'source': '<a href=\"https://github.com/yuhsul1\" rel=\"nofollow\">peter_pandas</a>',\n",
       " 'in_reply_to_status_id': None,\n",
       " 'in_reply_to_status_id_str': None,\n",
       " 'in_reply_to_user_id': 2277380293,\n",
       " 'in_reply_to_user_id_str': '2277380293',\n",
       " 'in_reply_to_screen_name': 'peter_pan_daz',\n",
       " 'user': {'id': 2277380293,\n",
       "  'id_str': '2277380293',\n",
       "  'name': 'Yu-Hsuan Liu',\n",
       "  'screen_name': 'peter_pan_daz',\n",
       "  'location': '',\n",
       "  'description': '',\n",
       "  'url': None,\n",
       "  'entities': {'description': {'urls': []}},\n",
       "  'protected': False,\n",
       "  'followers_count': 12,\n",
       "  'friends_count': 91,\n",
       "  'listed_count': 0,\n",
       "  'created_at': 'Sun Jan 05 09:20:51 +0000 2014',\n",
       "  'favourites_count': 11,\n",
       "  'utc_offset': None,\n",
       "  'time_zone': None,\n",
       "  'geo_enabled': False,\n",
       "  'verified': False,\n",
       "  'statuses_count': 26,\n",
       "  'lang': 'zh-tw',\n",
       "  'contributors_enabled': False,\n",
       "  'is_translator': False,\n",
       "  'is_translation_enabled': False,\n",
       "  'profile_background_color': '000000',\n",
       "  'profile_background_image_url': 'http://abs.twimg.com/images/themes/theme1/bg.png',\n",
       "  'profile_background_image_url_https': 'https://abs.twimg.com/images/themes/theme1/bg.png',\n",
       "  'profile_background_tile': False,\n",
       "  'profile_image_url': 'http://abs.twimg.com/sticky/default_profile_images/default_profile_normal.png',\n",
       "  'profile_image_url_https': 'https://abs.twimg.com/sticky/default_profile_images/default_profile_normal.png',\n",
       "  'profile_link_color': 'FFCC4D',\n",
       "  'profile_sidebar_border_color': '000000',\n",
       "  'profile_sidebar_fill_color': '000000',\n",
       "  'profile_text_color': '000000',\n",
       "  'profile_use_background_image': False,\n",
       "  'has_extended_profile': False,\n",
       "  'default_profile': False,\n",
       "  'default_profile_image': True,\n",
       "  'following': False,\n",
       "  'follow_request_sent': False,\n",
       "  'notifications': False,\n",
       "  'translator_type': 'none'},\n",
       " 'geo': None,\n",
       " 'coordinates': None,\n",
       " 'place': None,\n",
       " 'contributors': None,\n",
       " 'is_quote_status': False,\n",
       " 'retweet_count': 0,\n",
       " 'favorite_count': 0,\n",
       " 'favorited': False,\n",
       " 'retweeted': False,\n",
       " 'possibly_sensitive': False,\n",
       " 'lang': 'en'}"
      ]
     },
     "execution_count": 45,
     "metadata": {},
     "output_type": "execute_result"
    }
   ],
   "source": [
    "ohlc= panel_data[['Date', 'open', 'high', 'low','close']].copy()\n",
    "\n",
    "fig, ax = plt.subplots()\n",
    "fig.subplots_adjust(bottom=0.2)\n",
    "\n",
    "candlestick_ohlc(ax, ohlc.values, width=.6, colorup='green', colordown='red')\n",
    "ax.xaxis.set_major_formatter(mdates.DateFormatter('%Y-%m'))\n",
    "\n",
    "\n",
    "fig.autofmt_xdate()\n",
    "fig.tight_layout()\n",
    "plt.grid()\n",
    "plt.savefig(f\"Pics/{ticker} candlestick for {today}.png\")\n",
    "plt.show()\n",
    "api.update_with_media(f\"Pics/{ticker} candlestick for {today}.png\",f\"@{user[0]}, see your results for {ticker}!\" )"
   ]
  },
  {
   "cell_type": "code",
   "execution_count": null,
   "metadata": {},
   "outputs": [],
   "source": []
  }
 ],
 "metadata": {
  "kernelspec": {
   "display_name": "Python [conda env:pythondata]",
   "language": "python",
   "name": "conda-env-pythondata-py"
  },
  "language_info": {
   "codemirror_mode": {
    "name": "ipython",
    "version": 3
   },
   "file_extension": ".py",
   "mimetype": "text/x-python",
   "name": "python",
   "nbconvert_exporter": "python",
   "pygments_lexer": "ipython3",
   "version": "3.6.5"
  }
 },
 "nbformat": 4,
 "nbformat_minor": 2
}
