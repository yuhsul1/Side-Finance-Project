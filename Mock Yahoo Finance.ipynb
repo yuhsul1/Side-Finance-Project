{
 "cells": [
  {
   "cell_type": "code",
   "execution_count": 20,
   "metadata": {},
   "outputs": [],
   "source": [
    "import numpy as np\n",
    "import matplotlib.pyplot as plt\n",
    "from pandas_datareader import data\n",
    "import pandas as pd\n",
    "from datetime import datetime, timedelta\n",
    "%matplotlib inline"
   ]
  },
  {
   "cell_type": "code",
   "execution_count": 7,
   "metadata": {},
   "outputs": [
    {
     "name": "stdout",
     "output_type": "stream",
     "text": [
      "2018-10-25\n"
     ]
    }
   ],
   "source": [
    "#Find today's date\n",
    "today = datetime.today().strftime('%Y-%m-%d')\n",
    "print(today)"
   ]
  },
  {
   "cell_type": "code",
   "execution_count": 16,
   "metadata": {},
   "outputs": [
    {
     "name": "stdout",
     "output_type": "stream",
     "text": [
      "2015-10-26\n"
     ]
    }
   ],
   "source": [
    "#Find three years from today\n",
    "three_year = (datetime.now() - timedelta(days=3*365)).strftime('%Y-%m-%d')\n",
    "print(three_year)"
   ]
  },
  {
   "cell_type": "code",
   "execution_count": 17,
   "metadata": {},
   "outputs": [],
   "source": [
    "#Daily Data\n",
    "tickers = ['AAPL']\n",
    "\n",
    "dict = {}\n",
    "# User pandas_reader.data.DataReader to load the desired data. As simple as that.\n",
    "\n",
    "for ticker in tickers:\n",
    "    panel_data = data.DataReader(ticker, 'iex', three_year, today)\n",
    "    panel_data[\"Ticker\"] = ticker\n",
    "    panel_data[\"Moving Average\"] = panel_data[\"close\"].rolling(window=5).mean()"
   ]
  },
  {
   "cell_type": "code",
   "execution_count": 19,
   "metadata": {},
   "outputs": [
    {
     "data": {
      "text/html": [
       "<div>\n",
       "<style scoped>\n",
       "    .dataframe tbody tr th:only-of-type {\n",
       "        vertical-align: middle;\n",
       "    }\n",
       "\n",
       "    .dataframe tbody tr th {\n",
       "        vertical-align: top;\n",
       "    }\n",
       "\n",
       "    .dataframe thead th {\n",
       "        text-align: right;\n",
       "    }\n",
       "</style>\n",
       "<table border=\"1\" class=\"dataframe\">\n",
       "  <thead>\n",
       "    <tr style=\"text-align: right;\">\n",
       "      <th></th>\n",
       "      <th>open</th>\n",
       "      <th>high</th>\n",
       "      <th>low</th>\n",
       "      <th>close</th>\n",
       "      <th>volume</th>\n",
       "      <th>Ticker</th>\n",
       "      <th>Moving Average</th>\n",
       "    </tr>\n",
       "    <tr>\n",
       "      <th>date</th>\n",
       "      <th></th>\n",
       "      <th></th>\n",
       "      <th></th>\n",
       "      <th></th>\n",
       "      <th></th>\n",
       "      <th></th>\n",
       "      <th></th>\n",
       "    </tr>\n",
       "  </thead>\n",
       "  <tbody>\n",
       "    <tr>\n",
       "      <th>2015-10-26</th>\n",
       "      <td>111.9120</td>\n",
       "      <td>111.9594</td>\n",
       "      <td>108.9171</td>\n",
       "      <td>109.2583</td>\n",
       "      <td>66333781</td>\n",
       "      <td>AAPL</td>\n",
       "      <td>NaN</td>\n",
       "    </tr>\n",
       "    <tr>\n",
       "      <th>2015-10-27</th>\n",
       "      <td>109.3720</td>\n",
       "      <td>110.4524</td>\n",
       "      <td>108.0356</td>\n",
       "      <td>108.5664</td>\n",
       "      <td>69884400</td>\n",
       "      <td>AAPL</td>\n",
       "      <td>NaN</td>\n",
       "    </tr>\n",
       "    <tr>\n",
       "      <th>2015-10-28</th>\n",
       "      <td>110.8221</td>\n",
       "      <td>113.0683</td>\n",
       "      <td>109.9975</td>\n",
       "      <td>113.0398</td>\n",
       "      <td>85551352</td>\n",
       "      <td>AAPL</td>\n",
       "      <td>NaN</td>\n",
       "    </tr>\n",
       "    <tr>\n",
       "      <th>2015-10-29</th>\n",
       "      <td>112.4996</td>\n",
       "      <td>114.3857</td>\n",
       "      <td>112.0921</td>\n",
       "      <td>114.2340</td>\n",
       "      <td>51227334</td>\n",
       "      <td>AAPL</td>\n",
       "      <td>NaN</td>\n",
       "    </tr>\n",
       "    <tr>\n",
       "      <th>2015-10-30</th>\n",
       "      <td>114.6700</td>\n",
       "      <td>114.8880</td>\n",
       "      <td>113.2104</td>\n",
       "      <td>113.2578</td>\n",
       "      <td>49365254</td>\n",
       "      <td>AAPL</td>\n",
       "      <td>111.67126</td>\n",
       "    </tr>\n",
       "  </tbody>\n",
       "</table>\n",
       "</div>"
      ],
      "text/plain": [
       "                open      high       low     close    volume Ticker  \\\n",
       "date                                                                  \n",
       "2015-10-26  111.9120  111.9594  108.9171  109.2583  66333781   AAPL   \n",
       "2015-10-27  109.3720  110.4524  108.0356  108.5664  69884400   AAPL   \n",
       "2015-10-28  110.8221  113.0683  109.9975  113.0398  85551352   AAPL   \n",
       "2015-10-29  112.4996  114.3857  112.0921  114.2340  51227334   AAPL   \n",
       "2015-10-30  114.6700  114.8880  113.2104  113.2578  49365254   AAPL   \n",
       "\n",
       "            Moving Average  \n",
       "date                        \n",
       "2015-10-26             NaN  \n",
       "2015-10-27             NaN  \n",
       "2015-10-28             NaN  \n",
       "2015-10-29             NaN  \n",
       "2015-10-30       111.67126  "
      ]
     },
     "execution_count": 19,
     "metadata": {},
     "output_type": "execute_result"
    }
   ],
   "source": [
    "panel_data.head()"
   ]
  },
  {
   "cell_type": "code",
   "execution_count": null,
   "metadata": {},
   "outputs": [],
   "source": []
  }
 ],
 "metadata": {
  "kernelspec": {
   "display_name": "Python [conda env:pythondata]",
   "language": "python",
   "name": "conda-env-pythondata-py"
  },
  "language_info": {
   "codemirror_mode": {
    "name": "ipython",
    "version": 3
   },
   "file_extension": ".py",
   "mimetype": "text/x-python",
   "name": "python",
   "nbconvert_exporter": "python",
   "pygments_lexer": "ipython3",
   "version": "3.6.6"
  }
 },
 "nbformat": 4,
 "nbformat_minor": 2
}
